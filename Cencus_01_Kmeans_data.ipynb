{
 "cells": [
  {
   "cell_type": "markdown",
   "metadata": {},
   "source": [
    "### https://www.census.gov/data/developers/data-sets.html"
   ]
  },
  {
   "cell_type": "code",
   "execution_count": 1,
   "metadata": {},
   "outputs": [],
   "source": [
    "import pandas as pd\n",
    "import numpy as np\n",
    "import pandas as pd\n",
    "import numpy as np\n",
    "import os\n",
    "from urllib.request import urlopen\n",
    "import json\n",
    "import requests\n",
    "\n",
    "path=os.getcwd()"
   ]
  },
  {
   "cell_type": "markdown",
   "metadata": {},
   "source": [
    "### check variables"
   ]
  },
  {
   "cell_type": "code",
   "execution_count": 2,
   "metadata": {},
   "outputs": [],
   "source": [
    "survey=[\n",
    "        ['ASC_5year_subject','https://api.census.gov/data/2019/acs/acs5/subject/']\n",
    "       ]"
   ]
  },
  {
   "cell_type": "code",
   "execution_count": 3,
   "metadata": {},
   "outputs": [],
   "source": [
    "def clean_names(x):\n",
    "    p=x.find('<th>')\n",
    "    if p>-1:\n",
    "        x=x[(p+4):]\n",
    "    p=x.find('</th>')\n",
    "    if p>-1:\n",
    "        x=x[:p]\n",
    "    return(x)\n",
    "\n",
    "def clean_tbl(x):\n",
    "    if x.find('N/A')>-1:\n",
    "        return('N/A')\n",
    "    else:\n",
    "        p=x.find('>')\n",
    "        if p>-1:\n",
    "            x=x[(p+1):]\n",
    "        p=x.find('<')\n",
    "        if p>-1:\n",
    "            x=x[:p]\n",
    "        return(x)"
   ]
  },
  {
   "cell_type": "code",
   "execution_count": 4,
   "metadata": {},
   "outputs": [
    {
     "name": "stdout",
     "output_type": "stream",
     "text": [
      "ASC_5year_subject\n"
     ]
    }
   ],
   "source": [
    "variables=pd.DataFrame()\n",
    "\n",
    "for s in survey:\n",
    "    print(s[0])\n",
    "    if s[1]!='':\n",
    "        r=requests.get(s[1]+'variables.html')\n",
    "        r=r.text\n",
    "        \n",
    "        p=r.find('<table>')\n",
    "        p=r.find('<table>')\n",
    "        r=r[p:]\n",
    "        p1=r.find('<thead>')\n",
    "        r=r[p1:]\n",
    "        r=r.split('\\n<tr>\\n<td>')\n",
    "        \n",
    "        cols=[clean_names(x) for x in r[0].split('</th><th>')]\n",
    "        y=[[clean_tbl(y) for y in x.split('</td><td>')] for x in r[1:]]\n",
    "        \n",
    "        v=pd.DataFrame(y,columns=cols)\n",
    "        v['purpose']=s[0]\n",
    "        \n",
    "        variables=pd.concat([variables,v])"
   ]
  },
  {
   "cell_type": "code",
   "execution_count": 5,
   "metadata": {},
   "outputs": [
    {
     "data": {
      "text/html": [
       "<div>\n",
       "<style scoped>\n",
       "    .dataframe tbody tr th:only-of-type {\n",
       "        vertical-align: middle;\n",
       "    }\n",
       "\n",
       "    .dataframe tbody tr th {\n",
       "        vertical-align: top;\n",
       "    }\n",
       "\n",
       "    .dataframe thead th {\n",
       "        text-align: right;\n",
       "    }\n",
       "</style>\n",
       "<table border=\"1\" class=\"dataframe\">\n",
       "  <thead>\n",
       "    <tr style=\"text-align: right;\">\n",
       "      <th></th>\n",
       "      <th>Category</th>\n",
       "      <th>Name</th>\n",
       "      <th>Label</th>\n",
       "      <th>Concept</th>\n",
       "      <th>Required</th>\n",
       "      <th>Attributes</th>\n",
       "      <th>Limit</th>\n",
       "      <th>Predicate Type</th>\n",
       "      <th>Group</th>\n",
       "    </tr>\n",
       "  </thead>\n",
       "  <tbody>\n",
       "    <tr>\n",
       "      <th>0</th>\n",
       "      <td>Cultural</td>\n",
       "      <td>S0102_C01_061E</td>\n",
       "      <td>Estimate!!Total!!PLACE OF BIRTH, NATIVITY AND ...</td>\n",
       "      <td>POPULATION 60 YEARS AND OVER IN THE UNITED STATES</td>\n",
       "      <td>not required</td>\n",
       "      <td>S0102_C01_061EA, S0102_C01_061M, S0102_C01_061MA</td>\n",
       "      <td>0</td>\n",
       "      <td>float</td>\n",
       "      <td>S0102</td>\n",
       "    </tr>\n",
       "    <tr>\n",
       "      <th>1</th>\n",
       "      <td>Cultural</td>\n",
       "      <td>S0102_C01_065E</td>\n",
       "      <td>Estimate!!Total!!LANGUAGE SPOKEN AT HOME AND A...</td>\n",
       "      <td>POPULATION 60 YEARS AND OVER IN THE UNITED STATES</td>\n",
       "      <td>not required</td>\n",
       "      <td>S0102_C01_065EA, S0102_C01_065M, S0102_C01_065MA</td>\n",
       "      <td>0</td>\n",
       "      <td>float</td>\n",
       "      <td>S0102</td>\n",
       "    </tr>\n",
       "    <tr>\n",
       "      <th>2</th>\n",
       "      <td>Cultural</td>\n",
       "      <td>S1601_C01_004E</td>\n",
       "      <td>Estimate!!Total!!Population 5 years and over!!...</td>\n",
       "      <td>LANGUAGE SPOKEN AT HOME</td>\n",
       "      <td>not required</td>\n",
       "      <td>S1601_C01_004EA, S1601_C01_004M, S1601_C01_004MA</td>\n",
       "      <td>0</td>\n",
       "      <td>int</td>\n",
       "      <td>S1601</td>\n",
       "    </tr>\n",
       "  </tbody>\n",
       "</table>\n",
       "</div>"
      ],
      "text/plain": [
       "   Category            Name  \\\n",
       "0  Cultural  S0102_C01_061E   \n",
       "1  Cultural  S0102_C01_065E   \n",
       "2  Cultural  S1601_C01_004E   \n",
       "\n",
       "                                               Label  \\\n",
       "0  Estimate!!Total!!PLACE OF BIRTH, NATIVITY AND ...   \n",
       "1  Estimate!!Total!!LANGUAGE SPOKEN AT HOME AND A...   \n",
       "2  Estimate!!Total!!Population 5 years and over!!...   \n",
       "\n",
       "                                             Concept      Required  \\\n",
       "0  POPULATION 60 YEARS AND OVER IN THE UNITED STATES  not required   \n",
       "1  POPULATION 60 YEARS AND OVER IN THE UNITED STATES  not required   \n",
       "2                            LANGUAGE SPOKEN AT HOME  not required   \n",
       "\n",
       "                                         Attributes  Limit Predicate Type  \\\n",
       "0  S0102_C01_061EA, S0102_C01_061M, S0102_C01_061MA      0          float   \n",
       "1  S0102_C01_065EA, S0102_C01_065M, S0102_C01_065MA      0          float   \n",
       "2  S1601_C01_004EA, S1601_C01_004M, S1601_C01_004MA      0            int   \n",
       "\n",
       "   Group  \n",
       "0  S0102  \n",
       "1  S0102  \n",
       "2  S1601  "
      ]
     },
     "execution_count": 5,
     "metadata": {},
     "output_type": "execute_result"
    }
   ],
   "source": [
    "kmeans_varaibles=pd.read_csv(path+'/kmeans_variables.csv')\n",
    "kmeans_varaibles[:3]"
   ]
  },
  {
   "cell_type": "code",
   "execution_count": 6,
   "metadata": {},
   "outputs": [
    {
     "data": {
      "text/plain": [
       "(106, 9)"
      ]
     },
     "execution_count": 6,
     "metadata": {},
     "output_type": "execute_result"
    }
   ],
   "source": [
    "kmeans_varaibles.shape"
   ]
  },
  {
   "cell_type": "markdown",
   "metadata": {},
   "source": [
    "## get rid of percent variables"
   ]
  },
  {
   "cell_type": "code",
   "execution_count": 7,
   "metadata": {},
   "outputs": [],
   "source": [
    "kmeans_variables=pd.read_csv(path+'/kmeans_variables.csv')\n",
    "variables=pd.read_csv(path+'/variables.csv')\n",
    "variables=variables[variables['purpose']=='ASC_5year_subject']"
   ]
  },
  {
   "cell_type": "code",
   "execution_count": 8,
   "metadata": {},
   "outputs": [
    {
     "data": {
      "text/plain": [
       "(19, 9)"
      ]
     },
     "execution_count": 8,
     "metadata": {},
     "output_type": "execute_result"
    }
   ],
   "source": [
    "TF=kmeans_variables['Label'].str.lower().str.find('percent ')>-1\n",
    "pct=kmeans_variables[TF]\n",
    "pct.shape"
   ]
  },
  {
   "cell_type": "code",
   "execution_count": 9,
   "metadata": {},
   "outputs": [
    {
     "data": {
      "text/plain": [
       "(19, 3)"
      ]
     },
     "execution_count": 9,
     "metadata": {},
     "output_type": "execute_result"
    }
   ],
   "source": [
    "pct=pct[['Category','Label']].rename(columns={'Label':'Label2'})\n",
    "pct['Label']=pct['Label2'].str.replace('Percent ','')\n",
    "pct.shape"
   ]
  },
  {
   "cell_type": "code",
   "execution_count": 10,
   "metadata": {},
   "outputs": [
    {
     "data": {
      "text/plain": [
       "(19, 10)"
      ]
     },
     "execution_count": 10,
     "metadata": {},
     "output_type": "execute_result"
    }
   ],
   "source": [
    "non_pct=variables.merge(pct[['Category','Label']],how='inner',on='Label')\n",
    "non_pct.shape"
   ]
  },
  {
   "cell_type": "code",
   "execution_count": 11,
   "metadata": {},
   "outputs": [],
   "source": [
    "kmeans_variables=pd.concat([kmeans_variables[~TF],non_pct])"
   ]
  },
  {
   "cell_type": "code",
   "execution_count": 12,
   "metadata": {},
   "outputs": [
    {
     "data": {
      "text/plain": [
       "array([False])"
      ]
     },
     "execution_count": 12,
     "metadata": {},
     "output_type": "execute_result"
    }
   ],
   "source": [
    "TF=kmeans_variables['Label'].str.lower().str.find('percent ')>-1\n",
    "TF.unique()"
   ]
  },
  {
   "cell_type": "code",
   "execution_count": 13,
   "metadata": {},
   "outputs": [],
   "source": [
    "kmeans_variables.to_csv(path+'/kmeans_variables2.csv',index=False)"
   ]
  },
  {
   "cell_type": "markdown",
   "metadata": {},
   "source": [
    "### get data"
   ]
  },
  {
   "cell_type": "code",
   "execution_count": 14,
   "metadata": {},
   "outputs": [
    {
     "data": {
      "text/plain": [
       "107"
      ]
     },
     "execution_count": 14,
     "metadata": {},
     "output_type": "execute_result"
    }
   ],
   "source": [
    "v=list(kmeans_variables['Name'])\n",
    "if 'S0101_C01_001E' not in v:\n",
    "    v=['S0101_C01_001E'] +v\n",
    "len(v)"
   ]
  },
  {
   "cell_type": "code",
   "execution_count": 15,
   "metadata": {},
   "outputs": [],
   "source": [
    "url='https://api.census.gov/data/2019/acs/acs5/subject'\n",
    "columns='NAME,S0101_C01_001E,'+','.join(list(kmeans_varaibles['Name'])) #'NAME,group(S0102)'\n",
    "region='zip%20code%20tabulation%20area:*' #'county' #'state' # 'us:1'\n",
    "key='569a375ff2e18899eed44d35de29dac9419e938b'"
   ]
  },
  {
   "cell_type": "code",
   "execution_count": 16,
   "metadata": {},
   "outputs": [],
   "source": [
    "raw=[]\n",
    "i=1\n",
    "while 49*(i-1)<len(v):\n",
    "    columns=','.join(v[49*(i-1):(49*i)])\n",
    "    link=url+'?get='+columns+'&for='+region +'&key='+key\n",
    "    with urlopen(link) as x:\n",
    "         data = x.read().decode('utf-8')\n",
    "            \n",
    "    p=data.find(']')\n",
    "    df=pd.read_json('['+data[(p+3):])\n",
    "    df.columns=data[2:(p)].replace('\"','').split(',')\n",
    "    \n",
    "    if type(raw)==list:\n",
    "        raw=df\n",
    "    else:\n",
    "        raw=raw.merge(df,how='outer',on=['state','zip code tabulation area'])\n",
    "\n",
    "    i=i+1"
   ]
  },
  {
   "cell_type": "code",
   "execution_count": 17,
   "metadata": {},
   "outputs": [
    {
     "data": {
      "text/plain": [
       "[]"
      ]
     },
     "execution_count": 17,
     "metadata": {},
     "output_type": "execute_result"
    }
   ],
   "source": [
    "[x for x in v if x not in list(raw.columns)]"
   ]
  },
  {
   "cell_type": "code",
   "execution_count": 18,
   "metadata": {},
   "outputs": [
    {
     "data": {
      "text/plain": [
       "(33120, 109)"
      ]
     },
     "execution_count": 18,
     "metadata": {},
     "output_type": "execute_result"
    }
   ],
   "source": [
    "raw.shape"
   ]
  },
  {
   "cell_type": "code",
   "execution_count": 19,
   "metadata": {},
   "outputs": [],
   "source": [
    "raw.to_csv(path+'/01_raw.csv',index=False)"
   ]
  },
  {
   "cell_type": "code",
   "execution_count": null,
   "metadata": {},
   "outputs": [],
   "source": []
  }
 ],
 "metadata": {
  "creator": "can.tan",
  "customFields": {},
  "kernelspec": {
   "display_name": "Python 3",
   "language": "python",
   "name": "python3"
  },
  "language_info": {
   "codemirror_mode": {
    "name": "ipython",
    "version": 3
   },
   "file_extension": ".py",
   "mimetype": "text/x-python",
   "name": "python",
   "nbconvert_exporter": "python",
   "pygments_lexer": "ipython3",
   "version": "3.8.3"
  },
  "tags": []
 },
 "nbformat": 4,
 "nbformat_minor": 1
}
